{
 "cells": [
  {
   "cell_type": "code",
   "execution_count": 1,
   "metadata": {},
   "outputs": [],
   "source": [
    "import pandas as pd\n",
    "from fbprophet import Prophet\n",
    "import http.client, urllib.request, urllib.parse, urllib.error, base64\n",
    "import re"
   ]
  },
  {
   "cell_type": "markdown",
   "metadata": {},
   "source": [
    "PROPHET METHOD"
   ]
  },
  {
   "cell_type": "code",
   "execution_count": 2,
   "metadata": {},
   "outputs": [],
   "source": [
    "def sasi_Prophet(filepath):\n",
    "    \n",
    "    df = pd.read_csv(filepath)\n",
    "    df.columns=['ds', 'y']\n",
    "    m = Prophet()\n",
    "    m.fit(df)\n",
    "    future_dates = m.make_future_dataframe(periods=30)\n",
    "    future_dates.tail()\n",
    "    forecast = m.predict(future_dates)\n",
    "    result=(forecast[['ds', 'yhat']].tail(30))\n",
    "    result.columns=['date','Temp']\n",
    "    result=result.set_index(['date'])\n",
    "    result.to_csv('kac/'+filepath, sep=',')    "
   ]
  },
  {
   "cell_type": "code",
   "execution_count": 3,
   "metadata": {},
   "outputs": [
    {
     "name": "stderr",
     "output_type": "stream",
     "text": [
      "INFO:fbprophet:Disabling daily seasonality. Run prophet with daily_seasonality=True to override this.\n",
      "F:\\Anaconda\\lib\\site-packages\\pystan\\misc.py:399: FutureWarning: Conversion of the second argument of issubdtype from `float` to `np.floating` is deprecated. In future, it will be treated as `np.float64 == np.dtype(float).type`.\n",
      "  elif np.issubdtype(np.asarray(v).dtype, float):\n"
     ]
    }
   ],
   "source": [
    "sasi_Prophet('Phoenix.csv')"
   ]
  },
  {
   "cell_type": "code",
   "execution_count": 4,
   "metadata": {},
   "outputs": [],
   "source": [
    "def getFlightDetails(to,year,month,day):\n",
    "    \n",
    "    headers = {\n",
    "        # Request headers\n",
    "        'Ocp-Apim-Subscription-Key': '00c12c7f625f4eeaa65bac14b53489d7',\n",
    "    }\n",
    "    body=\"\"\n",
    "\n",
    "    params = urllib.parse.urlencode({\n",
    "        # Request parameters\n",
    "        'Connection': 'DIRECT'\n",
    "    })\n",
    "\n",
    "    try:\n",
    "        conn = http.client.HTTPSConnection('flightlookup.azure-api.net')\n",
    "        conn.request(\"GET\", \"/v1/xml/TimeTable/JFK/\"+to+\"/\"+year+month+day+\"/?%s\" % params,body , headers)\n",
    "        response = conn.getresponse()\n",
    "        data = response.read()\n",
    "        conn.close()\n",
    "    except Exception as e:\n",
    "        print(\"[Errno {0}] {1}\".format(e.errno, e.strerror))\n",
    "    \n",
    "    #get flight timings\n",
    "    dataString=str(data)\n",
    "    flightDurations = re.findall('TotalFlightTime=\"PT(.+?)\"', dataString)\n",
    "    \n",
    "    #get fliht names\n",
    "    flights = re.findall('CompanyShortName=\"(.+?)\" />', dataString)\n",
    "    \n",
    "    #store flight details into a pandas dataframe\n",
    "    flightData = pd.DataFrame(\n",
    "        {\n",
    "         'Duration': flightDurations[0:3],\n",
    "         'Flights': flights[0:3],\n",
    "        })\n",
    "    return(flightData)\n"
   ]
  },
  {
   "cell_type": "code",
   "execution_count": 5,
   "metadata": {},
   "outputs": [],
   "source": [
    "def main(date,temp):\n",
    "    first = pd.read_csv('kac/Phoenix.csv',index_col=0)\n",
    "    dictfirst=first.to_dict()\n",
    "    second = pd.read_csv('kac/San Diego.csv',index_col=0)\n",
    "    dictsecond=second.to_dict()\n",
    "    third = pd.read_csv('kac/Seattle.csv',index_col=0)\n",
    "    dictthird=third.to_dict()\n",
    "    \n",
    "    firstTemp = dictfirst['Temp'][date]\n",
    "    secondTemp = dictsecond['Temp'][date]\n",
    "    thirdTemp =  dictthird['Temp'][date]\n",
    "    \n",
    "    tempdif1 = temp-firstTemp\n",
    "    tempdif2 = temp-secondTemp\n",
    "    tempdif3 = temp-thirdTemp\n",
    "    \n",
    "    Array = {\"PHX\":tempdif2,\"SAN\":tempdif1,\"SEA\":tempdif3}\n",
    "    sortedDictTempDiff=sorted(Array.values())\n",
    "    \n",
    "    for key,value in Array.items():\n",
    "        if (value==sortedDictTempDiff[0]):\n",
    "            firstcity=key\n",
    "        \n",
    "        if (value==sortedDictTempDiff[1]):\n",
    "            secondcity=key\n",
    "        \n",
    "               \n",
    "  \n",
    "    city = {\"PHX\":'Phoenix',\"SAN\":'SanDieago',\"SEA\":'Seattle'}\n",
    "    \n",
    "    year=date[0:4]\n",
    "    month=date[5:7]\n",
    "    day=date[8:]\n",
    "    \n",
    "    \n",
    "    print(\"---------------------First Preference-------------------\")\n",
    "    print (\"\\nTemperature is :\",temp+Array[firstcity])\n",
    "    print (\"City is\",city[firstcity])\n",
    "    print(\"\\n\",getFlightDetails(firstcity,'2019',month,day))\n",
    "    \n",
    "    print(\"\\n\\n---------------------Second Preference-------------------\")\n",
    "    print (\"\\nTemperature is :\",temp+Array[secondcity])\n",
    "    print (\"City is\",city[secondcity])\n",
    "    print(\"\\n\",getFlightDetails(secondcity,'2019',month,day))\n",
    "       "
   ]
  },
  {
   "cell_type": "code",
   "execution_count": 6,
   "metadata": {},
   "outputs": [
    {
     "name": "stdout",
     "output_type": "stream",
     "text": [
      "---------------------First Preference-------------------\n",
      "\n",
      "Temperature is : 270.38776030967944\n",
      "City is Phoenix\n",
      "\n",
      "   Duration            Flights\n",
      "0    5H19M  American Airlines\n",
      "1    5H47M  American Airlines\n",
      "2    6H00M    Delta Air Lines\n",
      "\n",
      "\n",
      "---------------------Second Preference-------------------\n",
      "\n",
      "Temperature is : 270.59999421227656\n",
      "City is SanDieago\n",
      "\n",
      "   Duration          Flights\n",
      "0    6H38M  Delta Air Lines\n",
      "1    6H27M  JetBlue Airways\n",
      "2    6H23M  JetBlue Airways\n"
     ]
    }
   ],
   "source": [
    "main('2017-12-24',278)"
   ]
  },
  {
   "cell_type": "code",
   "execution_count": null,
   "metadata": {},
   "outputs": [],
   "source": []
  }
 ],
 "metadata": {
  "kernelspec": {
   "display_name": "Python 3",
   "language": "python",
   "name": "python3"
  },
  "language_info": {
   "codemirror_mode": {
    "name": "ipython",
    "version": 3
   },
   "file_extension": ".py",
   "mimetype": "text/x-python",
   "name": "python",
   "nbconvert_exporter": "python",
   "pygments_lexer": "ipython3",
   "version": "3.7.1"
  }
 },
 "nbformat": 4,
 "nbformat_minor": 2
}
